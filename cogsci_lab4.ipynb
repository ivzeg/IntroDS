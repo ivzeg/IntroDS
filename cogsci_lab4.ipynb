{
 "cells": [
  {
   "cell_type": "markdown",
   "id": "30e9ce05",
   "metadata": {},
   "source": [
    "# Laboratory exercise 4\n",
    "\n",
    "In this laboratory exercise you will use the questionnaire and answers given below"
   ]
  },
  {
   "cell_type": "code",
   "execution_count": 113,
   "id": "d6820020",
   "metadata": {},
   "outputs": [],
   "source": [
    "import pandas as pd"
   ]
  },
  {
   "cell_type": "code",
   "execution_count": 114,
   "id": "c53f916c",
   "metadata": {},
   "outputs": [],
   "source": [
    "questionnaire = pd.DataFrame({'Q1': [1, 2, 2, 3, 2, 2, 3, 3, 2, 3],\n",
    "                              'Q2': [1, 1, 1, 2, 3, 3, 2, 3, 3, 3],\n",
    "                              'Q3': [1, 1, 2, 1, 2, 3, 3, 3, 2, 3]})"
   ]
  },
  {
   "cell_type": "markdown",
   "id": "ce36a49d",
   "metadata": {},
   "source": [
    "1. Write a function to detrmine the realiability of the questionnaire answers with Cronbach's Alpha."
   ]
  },
  {
   "cell_type": "markdown",
   "id": "ccd68f21",
   "metadata": {},
   "source": [
    "Cronbach’s alpha is a measure of internal consistency, that is, how closely related a set of items are as a group. It is considered to be a measure of scale reliability. Technically speaking, Cronbach’s alpha is not a statistical test – it is a coefficient of reliability (or consistency). <br>\n",
    "(https://stats.oarc.ucla.edu/spss/faq/what-does-cronbachs-alpha-mean/ <br>\n",
    "https://library.virginia.edu/data/articles/using-and-interpreting-cronbachs-alpha)"
   ]
  },
  {
   "cell_type": "code",
   "execution_count": 115,
   "id": "bf758092",
   "metadata": {},
   "outputs": [
    {
     "data": {
      "text/html": [
       "<div>\n",
       "<style scoped>\n",
       "    .dataframe tbody tr th:only-of-type {\n",
       "        vertical-align: middle;\n",
       "    }\n",
       "\n",
       "    .dataframe tbody tr th {\n",
       "        vertical-align: top;\n",
       "    }\n",
       "\n",
       "    .dataframe thead th {\n",
       "        text-align: right;\n",
       "    }\n",
       "</style>\n",
       "<table border=\"1\" class=\"dataframe\">\n",
       "  <thead>\n",
       "    <tr style=\"text-align: right;\">\n",
       "      <th></th>\n",
       "      <th>Q1</th>\n",
       "      <th>Q2</th>\n",
       "      <th>Q3</th>\n",
       "    </tr>\n",
       "  </thead>\n",
       "  <tbody>\n",
       "    <tr>\n",
       "      <th>0</th>\n",
       "      <td>1</td>\n",
       "      <td>1</td>\n",
       "      <td>1</td>\n",
       "    </tr>\n",
       "    <tr>\n",
       "      <th>1</th>\n",
       "      <td>2</td>\n",
       "      <td>1</td>\n",
       "      <td>1</td>\n",
       "    </tr>\n",
       "    <tr>\n",
       "      <th>2</th>\n",
       "      <td>2</td>\n",
       "      <td>1</td>\n",
       "      <td>2</td>\n",
       "    </tr>\n",
       "    <tr>\n",
       "      <th>3</th>\n",
       "      <td>3</td>\n",
       "      <td>2</td>\n",
       "      <td>1</td>\n",
       "    </tr>\n",
       "    <tr>\n",
       "      <th>4</th>\n",
       "      <td>2</td>\n",
       "      <td>3</td>\n",
       "      <td>2</td>\n",
       "    </tr>\n",
       "    <tr>\n",
       "      <th>5</th>\n",
       "      <td>2</td>\n",
       "      <td>3</td>\n",
       "      <td>3</td>\n",
       "    </tr>\n",
       "    <tr>\n",
       "      <th>6</th>\n",
       "      <td>3</td>\n",
       "      <td>2</td>\n",
       "      <td>3</td>\n",
       "    </tr>\n",
       "    <tr>\n",
       "      <th>7</th>\n",
       "      <td>3</td>\n",
       "      <td>3</td>\n",
       "      <td>3</td>\n",
       "    </tr>\n",
       "    <tr>\n",
       "      <th>8</th>\n",
       "      <td>2</td>\n",
       "      <td>3</td>\n",
       "      <td>2</td>\n",
       "    </tr>\n",
       "    <tr>\n",
       "      <th>9</th>\n",
       "      <td>3</td>\n",
       "      <td>3</td>\n",
       "      <td>3</td>\n",
       "    </tr>\n",
       "  </tbody>\n",
       "</table>\n",
       "</div>"
      ],
      "text/plain": [
       "   Q1  Q2  Q3\n",
       "0   1   1   1\n",
       "1   2   1   1\n",
       "2   2   1   2\n",
       "3   3   2   1\n",
       "4   2   3   2\n",
       "5   2   3   3\n",
       "6   3   2   3\n",
       "7   3   3   3\n",
       "8   2   3   2\n",
       "9   3   3   3"
      ]
     },
     "execution_count": 115,
     "metadata": {},
     "output_type": "execute_result"
    }
   ],
   "source": [
    "questionnaire"
   ]
  },
  {
   "cell_type": "code",
   "execution_count": 116,
   "id": "3eb5f6f5",
   "metadata": {},
   "outputs": [],
   "source": [
    "quest_ext = questionnaire.copy()"
   ]
  },
  {
   "cell_type": "code",
   "execution_count": 117,
   "id": "fddbed3d",
   "metadata": {},
   "outputs": [],
   "source": [
    "# https://library.virginia.edu/data/articles/using-and-interpreting-cronbachs-alpha\n",
    "# formula\n",
    "# c_alpha = k/(k-1) * (1 - (sum_var)/(var_total))\n",
    "# column Total needed"
   ]
  },
  {
   "cell_type": "code",
   "execution_count": 118,
   "id": "6225d7ca",
   "metadata": {},
   "outputs": [],
   "source": [
    "quest_ext['Total'] = quest_ext.sum(axis=1)"
   ]
  },
  {
   "cell_type": "code",
   "execution_count": 119,
   "id": "285057de",
   "metadata": {},
   "outputs": [
    {
     "data": {
      "text/html": [
       "<div>\n",
       "<style scoped>\n",
       "    .dataframe tbody tr th:only-of-type {\n",
       "        vertical-align: middle;\n",
       "    }\n",
       "\n",
       "    .dataframe tbody tr th {\n",
       "        vertical-align: top;\n",
       "    }\n",
       "\n",
       "    .dataframe thead th {\n",
       "        text-align: right;\n",
       "    }\n",
       "</style>\n",
       "<table border=\"1\" class=\"dataframe\">\n",
       "  <thead>\n",
       "    <tr style=\"text-align: right;\">\n",
       "      <th></th>\n",
       "      <th>Q1</th>\n",
       "      <th>Q2</th>\n",
       "      <th>Q3</th>\n",
       "      <th>Total</th>\n",
       "    </tr>\n",
       "  </thead>\n",
       "  <tbody>\n",
       "    <tr>\n",
       "      <th>0</th>\n",
       "      <td>1</td>\n",
       "      <td>1</td>\n",
       "      <td>1</td>\n",
       "      <td>3</td>\n",
       "    </tr>\n",
       "    <tr>\n",
       "      <th>1</th>\n",
       "      <td>2</td>\n",
       "      <td>1</td>\n",
       "      <td>1</td>\n",
       "      <td>4</td>\n",
       "    </tr>\n",
       "    <tr>\n",
       "      <th>2</th>\n",
       "      <td>2</td>\n",
       "      <td>1</td>\n",
       "      <td>2</td>\n",
       "      <td>5</td>\n",
       "    </tr>\n",
       "    <tr>\n",
       "      <th>3</th>\n",
       "      <td>3</td>\n",
       "      <td>2</td>\n",
       "      <td>1</td>\n",
       "      <td>6</td>\n",
       "    </tr>\n",
       "    <tr>\n",
       "      <th>4</th>\n",
       "      <td>2</td>\n",
       "      <td>3</td>\n",
       "      <td>2</td>\n",
       "      <td>7</td>\n",
       "    </tr>\n",
       "    <tr>\n",
       "      <th>5</th>\n",
       "      <td>2</td>\n",
       "      <td>3</td>\n",
       "      <td>3</td>\n",
       "      <td>8</td>\n",
       "    </tr>\n",
       "    <tr>\n",
       "      <th>6</th>\n",
       "      <td>3</td>\n",
       "      <td>2</td>\n",
       "      <td>3</td>\n",
       "      <td>8</td>\n",
       "    </tr>\n",
       "    <tr>\n",
       "      <th>7</th>\n",
       "      <td>3</td>\n",
       "      <td>3</td>\n",
       "      <td>3</td>\n",
       "      <td>9</td>\n",
       "    </tr>\n",
       "    <tr>\n",
       "      <th>8</th>\n",
       "      <td>2</td>\n",
       "      <td>3</td>\n",
       "      <td>2</td>\n",
       "      <td>7</td>\n",
       "    </tr>\n",
       "    <tr>\n",
       "      <th>9</th>\n",
       "      <td>3</td>\n",
       "      <td>3</td>\n",
       "      <td>3</td>\n",
       "      <td>9</td>\n",
       "    </tr>\n",
       "  </tbody>\n",
       "</table>\n",
       "</div>"
      ],
      "text/plain": [
       "   Q1  Q2  Q3  Total\n",
       "0   1   1   1      3\n",
       "1   2   1   1      4\n",
       "2   2   1   2      5\n",
       "3   3   2   1      6\n",
       "4   2   3   2      7\n",
       "5   2   3   3      8\n",
       "6   3   2   3      8\n",
       "7   3   3   3      9\n",
       "8   2   3   2      7\n",
       "9   3   3   3      9"
      ]
     },
     "execution_count": 119,
     "metadata": {},
     "output_type": "execute_result"
    }
   ],
   "source": [
    "quest_ext"
   ]
  },
  {
   "cell_type": "code",
   "execution_count": 120,
   "id": "b7cad03e",
   "metadata": {},
   "outputs": [
    {
     "data": {
      "text/plain": [
       "Q1       0.455556\n",
       "Q2       0.844444\n",
       "Q3       0.766667\n",
       "Total    4.266667\n",
       "dtype: float64"
      ]
     },
     "execution_count": 120,
     "metadata": {},
     "output_type": "execute_result"
    }
   ],
   "source": [
    "quest_ext.var()"
   ]
  },
  {
   "cell_type": "code",
   "execution_count": 121,
   "id": "85456bb4",
   "metadata": {},
   "outputs": [
    {
     "data": {
      "text/plain": [
       "0.4555555555555556"
      ]
     },
     "execution_count": 121,
     "metadata": {},
     "output_type": "execute_result"
    }
   ],
   "source": [
    "quest_ext.var()[0]"
   ]
  },
  {
   "cell_type": "code",
   "execution_count": 122,
   "id": "f9c13a45",
   "metadata": {},
   "outputs": [
    {
     "data": {
      "text/plain": [
       "4.266666666666666"
      ]
     },
     "execution_count": 122,
     "metadata": {},
     "output_type": "execute_result"
    }
   ],
   "source": [
    "quest_ext.var()[len(quest_ext.columns)-1]"
   ]
  },
  {
   "cell_type": "code",
   "execution_count": 123,
   "id": "c688b448",
   "metadata": {},
   "outputs": [],
   "source": [
    "def cronbach_alpha(df):\n",
    "    \n",
    "    k = len(df.columns)-1 # columns 1, 2, 3\n",
    "    \n",
    "    sum_var = 0\n",
    "    for i in range(len(df.columns)-1): \n",
    "        sum_var += df.var()[i]\n",
    "        #print(sum_var)\n",
    "\n",
    "    var_total = df.var()[len(df.columns)-1] # column Total\n",
    "    \n",
    "    c_alpha = k/(k-1) * (1 - (sum_var)/(var_total))\n",
    "    \n",
    "    return c_alpha"
   ]
  },
  {
   "cell_type": "code",
   "execution_count": 124,
   "id": "99f664eb",
   "metadata": {},
   "outputs": [
    {
     "data": {
      "text/plain": [
       "0.7734375"
      ]
     },
     "execution_count": 124,
     "metadata": {},
     "output_type": "execute_result"
    }
   ],
   "source": [
    "cronbach_alpha(quest_ext)"
   ]
  },
  {
   "cell_type": "markdown",
   "id": "528972ba",
   "metadata": {},
   "source": [
    "Cronbach alpha higher than 0.7 is considered  acceptable."
   ]
  },
  {
   "cell_type": "code",
   "execution_count": 125,
   "id": "a0273b0b",
   "metadata": {},
   "outputs": [
    {
     "data": {
      "text/plain": [
       "(0.7734375, array([0.336, 0.939]))"
      ]
     },
     "execution_count": 125,
     "metadata": {},
     "output_type": "execute_result"
    }
   ],
   "source": [
    "# verification with in-built function\n",
    "\n",
    "import pingouin as pg\n",
    "pg.cronbach_alpha(data=questionnaire)"
   ]
  },
  {
   "cell_type": "markdown",
   "id": "69cb9d0a",
   "metadata": {},
   "source": [
    "2. Explain the differences between in-house data labeling, crowdsourcing and outsourcing. "
   ]
  },
  {
   "cell_type": "markdown",
   "id": "1d51467f",
   "metadata": {},
   "source": [
    "Supervised machine learning algorithms require labeled data. Data labeling can be done in-house, be outsourced or crowdsourced. <br> <br> \n",
    "In-house data labeling uses data scientists and facilities from the organization that requires data labeling. People need to be trained and facilites built; these are highly time-consuming activities. Pricing is also high; companies need to invest both in hardware and data scientists. In-house data labeling provides high level of security and high level of labeling quality. <br> <br> \n",
    "Crowdsourcing implies internet users as labelers of data. The process is fast and cheap. However, no security standard has to be respected (data can be distributed elsewhere) and the quality of labeling may not be very high. reCAPTCHA is an example of crowdsourced data labeling. <br> <br> \n",
    "Outsourcing data labeling is an appropriate strategy when dealing with not extremely private data that requires high-quality data labeling. Outsourcing implies that companies hire a third-party: trained experts in data labeling. Price, time and security are higher than with crowdsouring, but lower than with in-house labeling. The quality of labeling is high."
   ]
  },
  {
   "cell_type": "markdown",
   "id": "ce3d3e91",
   "metadata": {},
   "source": [
    "3. Explain the main differences between annotation for image classification, object detection and image segmentation."
   ]
  },
  {
   "cell_type": "markdown",
   "id": "f6d596ce",
   "metadata": {},
   "source": [
    "Image classification, object detection and image segmentation are computer vision tasks. <br> <br>\n",
    "Image classification is a task of determining what is shown in an image. The final prediction is the most probable of predetermined classes. Classes may be types of objects, scenes or concepts. Each class has its label. <br> <br>\n",
    "Object detection looks for (identifies and localizes) certain objects in an image. If found, objects are categorized and distinguished - each object is labeled with a bounding box and given a name depending on the category. The output of an object detection model is a list of objects with their corresponding class labels and bounding box coordinates. <br> <br>\n",
    "Image segmentation gives each pixel in an image a label depending on which region (or object) it belongs to. The output of a segmentation model is a pixel-wise mask that represents the segmentation boundaries. "
   ]
  }
 ],
 "metadata": {
  "kernelspec": {
   "display_name": "Python 3 (ipykernel)",
   "language": "python",
   "name": "python3"
  },
  "language_info": {
   "codemirror_mode": {
    "name": "ipython",
    "version": 3
   },
   "file_extension": ".py",
   "mimetype": "text/x-python",
   "name": "python",
   "nbconvert_exporter": "python",
   "pygments_lexer": "ipython3",
   "version": "3.8.18"
  }
 },
 "nbformat": 4,
 "nbformat_minor": 5
}
