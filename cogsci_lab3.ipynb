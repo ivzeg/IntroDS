{
 "cells": [
  {
   "cell_type": "code",
   "execution_count": 2,
   "id": "f7ff933a",
   "metadata": {},
   "outputs": [],
   "source": [
    "import numpy as np\n",
    "import pandas as pd\n",
    "import matplotlib.pyplot as plt\n",
    "import seaborn as sns\n",
    "import statistics\n",
    "from scipy import stats"
   ]
  },
  {
   "cell_type": "markdown",
   "id": "565d8231",
   "metadata": {},
   "source": [
    "1. Load the cleaned dataset from the last exercise. If you haven't saved the dataset, rerun the exercise and save the final dataset."
   ]
  },
  {
   "cell_type": "code",
   "execution_count": 3,
   "id": "ed36fe06",
   "metadata": {},
   "outputs": [],
   "source": [
    "df = pd.read_csv('students_score_handled.csv', index_col=0)"
   ]
  },
  {
   "cell_type": "code",
   "execution_count": 4,
   "id": "e0ad77d1",
   "metadata": {},
   "outputs": [
    {
     "data": {
      "text/html": [
       "<div>\n",
       "<style scoped>\n",
       "    .dataframe tbody tr th:only-of-type {\n",
       "        vertical-align: middle;\n",
       "    }\n",
       "\n",
       "    .dataframe tbody tr th {\n",
       "        vertical-align: top;\n",
       "    }\n",
       "\n",
       "    .dataframe thead th {\n",
       "        text-align: right;\n",
       "    }\n",
       "</style>\n",
       "<table border=\"1\" class=\"dataframe\">\n",
       "  <thead>\n",
       "    <tr style=\"text-align: right;\">\n",
       "      <th></th>\n",
       "      <th>EthnicGroup</th>\n",
       "      <th>ParentEduc</th>\n",
       "      <th>TestPrep</th>\n",
       "      <th>ParentMaritalStatus</th>\n",
       "      <th>PracticeSport</th>\n",
       "      <th>IsFirstChild</th>\n",
       "      <th>NrSiblings</th>\n",
       "      <th>TransportMeans</th>\n",
       "      <th>WklyStudyHours</th>\n",
       "      <th>MathScore</th>\n",
       "      <th>ReadingScore</th>\n",
       "      <th>WritingScore</th>\n",
       "      <th>Gender_female</th>\n",
       "      <th>Gender_male</th>\n",
       "      <th>LunchType_free/reduced</th>\n",
       "      <th>LunchType_standard</th>\n",
       "    </tr>\n",
       "  </thead>\n",
       "  <tbody>\n",
       "    <tr>\n",
       "      <th>0</th>\n",
       "      <td>2</td>\n",
       "      <td>1</td>\n",
       "      <td>1</td>\n",
       "      <td>1</td>\n",
       "      <td>1</td>\n",
       "      <td>1</td>\n",
       "      <td>3.0</td>\n",
       "      <td>1</td>\n",
       "      <td>1</td>\n",
       "      <td>71</td>\n",
       "      <td>71</td>\n",
       "      <td>74</td>\n",
       "      <td>1.0</td>\n",
       "      <td>0.0</td>\n",
       "      <td>0.0</td>\n",
       "      <td>1.0</td>\n",
       "    </tr>\n",
       "    <tr>\n",
       "      <th>1</th>\n",
       "      <td>2</td>\n",
       "      <td>5</td>\n",
       "      <td>1</td>\n",
       "      <td>1</td>\n",
       "      <td>2</td>\n",
       "      <td>1</td>\n",
       "      <td>0.0</td>\n",
       "      <td>2</td>\n",
       "      <td>0</td>\n",
       "      <td>69</td>\n",
       "      <td>90</td>\n",
       "      <td>88</td>\n",
       "      <td>1.0</td>\n",
       "      <td>0.0</td>\n",
       "      <td>0.0</td>\n",
       "      <td>1.0</td>\n",
       "    </tr>\n",
       "    <tr>\n",
       "      <th>2</th>\n",
       "      <td>1</td>\n",
       "      <td>3</td>\n",
       "      <td>1</td>\n",
       "      <td>2</td>\n",
       "      <td>2</td>\n",
       "      <td>1</td>\n",
       "      <td>4.0</td>\n",
       "      <td>1</td>\n",
       "      <td>1</td>\n",
       "      <td>87</td>\n",
       "      <td>93</td>\n",
       "      <td>91</td>\n",
       "      <td>1.0</td>\n",
       "      <td>0.0</td>\n",
       "      <td>0.0</td>\n",
       "      <td>1.0</td>\n",
       "    </tr>\n",
       "    <tr>\n",
       "      <th>3</th>\n",
       "      <td>0</td>\n",
       "      <td>0</td>\n",
       "      <td>1</td>\n",
       "      <td>1</td>\n",
       "      <td>0</td>\n",
       "      <td>0</td>\n",
       "      <td>1.0</td>\n",
       "      <td>2</td>\n",
       "      <td>0</td>\n",
       "      <td>45</td>\n",
       "      <td>56</td>\n",
       "      <td>42</td>\n",
       "      <td>0.0</td>\n",
       "      <td>1.0</td>\n",
       "      <td>1.0</td>\n",
       "      <td>0.0</td>\n",
       "    </tr>\n",
       "    <tr>\n",
       "      <th>4</th>\n",
       "      <td>2</td>\n",
       "      <td>5</td>\n",
       "      <td>1</td>\n",
       "      <td>1</td>\n",
       "      <td>2</td>\n",
       "      <td>1</td>\n",
       "      <td>0.0</td>\n",
       "      <td>1</td>\n",
       "      <td>0</td>\n",
       "      <td>76</td>\n",
       "      <td>78</td>\n",
       "      <td>75</td>\n",
       "      <td>0.0</td>\n",
       "      <td>1.0</td>\n",
       "      <td>0.0</td>\n",
       "      <td>1.0</td>\n",
       "    </tr>\n",
       "  </tbody>\n",
       "</table>\n",
       "</div>"
      ],
      "text/plain": [
       "   EthnicGroup  ParentEduc  TestPrep  ParentMaritalStatus  PracticeSport  \\\n",
       "0            2           1         1                    1              1   \n",
       "1            2           5         1                    1              2   \n",
       "2            1           3         1                    2              2   \n",
       "3            0           0         1                    1              0   \n",
       "4            2           5         1                    1              2   \n",
       "\n",
       "   IsFirstChild  NrSiblings  TransportMeans  WklyStudyHours  MathScore  \\\n",
       "0             1         3.0               1               1         71   \n",
       "1             1         0.0               2               0         69   \n",
       "2             1         4.0               1               1         87   \n",
       "3             0         1.0               2               0         45   \n",
       "4             1         0.0               1               0         76   \n",
       "\n",
       "   ReadingScore  WritingScore  Gender_female  Gender_male  \\\n",
       "0            71            74            1.0          0.0   \n",
       "1            90            88            1.0          0.0   \n",
       "2            93            91            1.0          0.0   \n",
       "3            56            42            0.0          1.0   \n",
       "4            78            75            0.0          1.0   \n",
       "\n",
       "   LunchType_free/reduced  LunchType_standard  \n",
       "0                     0.0                 1.0  \n",
       "1                     0.0                 1.0  \n",
       "2                     0.0                 1.0  \n",
       "3                     1.0                 0.0  \n",
       "4                     0.0                 1.0  "
      ]
     },
     "execution_count": 4,
     "metadata": {},
     "output_type": "execute_result"
    }
   ],
   "source": [
    "df.head()"
   ]
  },
  {
   "cell_type": "markdown",
   "id": "5bd8059f",
   "metadata": {},
   "source": [
    "2. a) Find the mean, median and average scores in mathematics, reading and writing. <br>\n",
    "   b) Find the mean, median and average scores for males and females.<br>\n",
    "   c) What is the coefficient of variation of the scores? <br>"
   ]
  },
  {
   "cell_type": "code",
   "execution_count": 7,
   "id": "50b4b85d",
   "metadata": {},
   "outputs": [
    {
     "name": "stdout",
     "output_type": "stream",
     "text": [
      "MathScore mean:  66.55994779681973\n",
      "MathScore median:  67.0\n",
      "MathScore mode:  0    64\n",
      "Name: MathScore, dtype: int64\n",
      "MathScore geometric mean:  0.0\n",
      "MathScore harmonic mean:  0.0\n",
      "\n",
      "ReadingScore mean:  69.39008139574818\n",
      "ReadingScore median:  70.0\n",
      "ReadingScore mode:  0    65\n",
      "Name: ReadingScore, dtype: int64\n",
      "ReadingScore geometric mean:  67.66668157387164\n",
      "ReadingScore harmonic mean:  65.70263364431344\n",
      "\n",
      "WritingScore mean:  68.42933681354535\n",
      "WritingScore median:  69.0\n",
      "WritingScore mode:  0    67\n",
      "Name: WritingScore, dtype: int64\n",
      "WritingScore geometric mean:  66.50129535980764\n",
      "WritingScore harmonic mean:  64.25892028771429\n",
      "\n",
      "MathScore mean female:  64.11941926249062\n",
      "MathScore median female:  64.0\n",
      "MathScore mode female:  0    64\n",
      "Name: MathScore, dtype: int64\n",
      "MathScore geometric mean female:  0.0\n",
      "MathScore harmonic mean female:  0.0\n",
      "\n",
      "ReadingScore mean female:  72.900824756322\n",
      "ReadingScore median female:  73.0\n",
      "ReadingScore mode female:  0    65\n",
      "Name: ReadingScore, dtype: int64\n",
      "ReadingScore geometric mean female:  71.39101589462307\n",
      "ReadingScore harmonic mean female:  69.71349931263047\n",
      "\n",
      "WritingScore mean female:  72.89918887601391\n",
      "WritingScore median female:  73.0\n",
      "WritingScore mode female:  0    78\n",
      "Name: WritingScore, dtype: int64\n",
      "WritingScore geometric mean female:  71.29682166192043\n",
      "WritingScore harmonic mean female:  69.4970948907883\n",
      "\n",
      "MathScore mean male:  69.03848816281324\n",
      "MathScore median male:  69.0\n",
      "MathScore mode male:  0    64\n",
      "Name: MathScore, dtype: int64\n",
      "MathScore geometric mean male:  67.22301270960331\n",
      "MathScore harmonic mean male:  65.14612264898119\n",
      "\n",
      "ReadingScore mean male:  65.82465734459366\n",
      "ReadingScore median male:  66.0\n",
      "ReadingScore mode male:  0    65\n",
      "Name: ReadingScore, dtype: int64\n",
      "ReadingScore geometric mean male:  64.08313951891952\n",
      "ReadingScore harmonic mean male:  62.075578834959884\n",
      "\n",
      "WritingScore mean male:  63.88986570677004\n",
      "WritingScore median male:  64.0\n",
      "WritingScore mode male:  0    63\n",
      "Name: WritingScore, dtype: int64\n",
      "WritingScore geometric mean male:  61.96108918830905\n",
      "WritingScore harmonic mean male:  59.68986881219045\n",
      "\n",
      "MathScore cv:  23.053282736702542\n",
      "ReadingScore cv:  21.271325834740303\n",
      "WritingScore cv:  22.574844991058495\n",
      "\n",
      "MathScore cv female:  23.69535709178153\n",
      "ReadingScore cv female:  19.515187006731466\n",
      "WritingScore cv female:  20.058800659976374\n",
      "\n",
      "MathScore cv male:  21.86898938750788\n",
      "ReadingScore cv male:  21.928522948736997\n",
      "WritingScore cv male:  23.370662469204564\n"
     ]
    }
   ],
   "source": [
    "# a) average scores (referring to Lecture 4) - mean, joint mean, median, mode, geometric mean, harmonic mean\n",
    "\n",
    "# MathScore\n",
    "\n",
    "print('MathScore mean: ', df['MathScore'].mean())\n",
    "print('MathScore median: ', df['MathScore'].median())\n",
    "print('MathScore mode: ', df['MathScore'].mode())\n",
    "print('MathScore geometric mean: ', stats.gmean(df.loc[:,'MathScore'])) # 0 - someone clearly had 0 points\n",
    "print('MathScore harmonic mean: ', stats.hmean(df.loc[:,'MathScore'])) \n",
    "print('')\n",
    "\n",
    "print('ReadingScore mean: ', df['ReadingScore'].mean())\n",
    "print('ReadingScore median: ', df['ReadingScore'].median())\n",
    "print('ReadingScore mode: ', df['ReadingScore'].mode())\n",
    "print('ReadingScore geometric mean: ', stats.gmean(df.loc[:,'ReadingScore']))\n",
    "print('ReadingScore harmonic mean: ', stats.hmean(df.loc[:,'ReadingScore'])) \n",
    "print('')\n",
    "\n",
    "print('WritingScore mean: ', df['WritingScore'].mean())\n",
    "print('WritingScore median: ', df['WritingScore'].median())\n",
    "print('WritingScore mode: ', df['WritingScore'].mode())\n",
    "print('WritingScore geometric mean: ', stats.gmean(df.loc[:,'WritingScore']))\n",
    "print('WritingScore harmonic mean: ', stats.hmean(df.loc[:,'WritingScore']))\n",
    "print('')\n",
    "\n",
    "# b) Find the mean, median and average scores for males and females.\n",
    "\n",
    "female = df.query('Gender_female==1')\n",
    "male = df.query('Gender_male==1')\n",
    "\n",
    "print('MathScore mean female: ', female['MathScore'].mean())\n",
    "print('MathScore median female: ', female['MathScore'].median())\n",
    "print('MathScore mode female: ', female['MathScore'].mode())\n",
    "print('MathScore geometric mean female: ', stats.gmean(female.loc[:,'MathScore'])) \n",
    "print('MathScore harmonic mean female: ', stats.hmean(female.loc[:,'MathScore'])) \n",
    "print('')\n",
    "\n",
    "print('ReadingScore mean female: ', female['ReadingScore'].mean())\n",
    "print('ReadingScore median female: ', female['ReadingScore'].median())\n",
    "print('ReadingScore mode female: ', female['ReadingScore'].mode())\n",
    "print('ReadingScore geometric mean female: ', stats.gmean(female.loc[:,'ReadingScore']))\n",
    "print('ReadingScore harmonic mean female: ', stats.hmean(female.loc[:,'ReadingScore'])) \n",
    "print('')\n",
    "\n",
    "print('WritingScore mean female: ', female['WritingScore'].mean())\n",
    "print('WritingScore median female: ', female['WritingScore'].median())\n",
    "print('WritingScore mode female: ', female['WritingScore'].mode())\n",
    "print('WritingScore geometric mean female: ', stats.gmean(female.loc[:,'WritingScore']))\n",
    "print('WritingScore harmonic mean female: ', stats.hmean(female.loc[:,'WritingScore']))\n",
    "print('')\n",
    "\n",
    "print('MathScore mean male: ', male['MathScore'].mean())\n",
    "print('MathScore median male: ', male['MathScore'].median())\n",
    "print('MathScore mode male: ', male['MathScore'].mode())\n",
    "print('MathScore geometric mean male: ', stats.gmean(male.loc[:,'MathScore'])) \n",
    "print('MathScore harmonic mean male: ', stats.hmean(male.loc[:,'MathScore'])) \n",
    "print('')\n",
    "\n",
    "print('ReadingScore mean male: ', male['ReadingScore'].mean())\n",
    "print('ReadingScore median male: ', male['ReadingScore'].median())\n",
    "print('ReadingScore mode male: ', male['ReadingScore'].mode())\n",
    "print('ReadingScore geometric mean male: ', stats.gmean(male.loc[:,'ReadingScore']))\n",
    "print('ReadingScore harmonic mean male: ', stats.hmean(male.loc[:,'ReadingScore'])) \n",
    "print('')\n",
    "\n",
    "print('WritingScore mean male: ', male['WritingScore'].mean())\n",
    "print('WritingScore median male: ', male['WritingScore'].median())\n",
    "print('WritingScore mode male: ', male['WritingScore'].mode())\n",
    "print('WritingScore geometric mean male: ', stats.gmean(male.loc[:,'WritingScore']))\n",
    "print('WritingScore harmonic mean male: ', stats.hmean(male.loc[:,'WritingScore']))\n",
    "print('')\n",
    "\n",
    "\n",
    "# c) coeff. of variation\n",
    "\n",
    "print('MathScore cv: ', df['MathScore'].std() / df['MathScore'].mean() * 100)\n",
    "print('ReadingScore cv: ', df['ReadingScore'].std() / df['ReadingScore'].mean() * 100)\n",
    "print('WritingScore cv: ', df['WritingScore'].std() / df['WritingScore'].mean() * 100)\n",
    "print('')\n",
    "\n",
    "print('MathScore cv female: ', female['MathScore'].std() / female['MathScore'].mean() * 100)\n",
    "print('ReadingScore cv female: ', female['ReadingScore'].std() / female['ReadingScore'].mean() * 100)\n",
    "print('WritingScore cv female: ', female['WritingScore'].std() / female['WritingScore'].mean() * 100)\n",
    "print('')\n",
    "\n",
    "print('MathScore cv male: ', male['MathScore'].std() / male['MathScore'].mean() * 100)\n",
    "print('ReadingScore cv male: ', male['ReadingScore'].std() / male['ReadingScore'].mean() * 100)\n",
    "print('WritingScore cv male: ', male['WritingScore'].std() / male['WritingScore'].mean() * 100)\n"
   ]
  },
  {
   "cell_type": "markdown",
   "id": "70855546",
   "metadata": {},
   "source": [
    "3. a) Use a statistical test to test the hypothesis:<br>\n",
    "H0: the mean mathematical scores of females and males are equal.\n",
    "\n"
   ]
  },
  {
   "cell_type": "code",
   "execution_count": 8,
   "id": "930b0f3e",
   "metadata": {},
   "outputs": [],
   "source": [
    "female_sample = female.sample(n=500, random_state=1) \n",
    "male_sample = male.sample(n=500, random_state=1)\n",
    "\n",
    "mathscore_normal = np.array([np.mean(df[df[\"Gender_female\"]==1].sample(100)[\"MathScore\"].values) for i in range(500)])\n",
    "female_sample['MathScore_normal'] = mathscore_normal\n",
    "\n",
    "mathscore_normal_m = np.array([np.mean(df[df[\"Gender_male\"]==1].sample(100)[\"MathScore\"].values) for i in range(500)])\n",
    "male_sample['MathScore_normal'] = mathscore_normal_m"
   ]
  },
  {
   "cell_type": "code",
   "execution_count": 9,
   "id": "ef56f09c",
   "metadata": {},
   "outputs": [
    {
     "name": "stdout",
     "output_type": "stream",
     "text": [
      "stat=2804.588, p=0.000\n",
      "Probably different distributions\n"
     ]
    }
   ],
   "source": [
    "# ANOVA - Tests whether the means of two or more independent samples are significantly different.\n",
    "\n",
    "from scipy.stats import f_oneway\n",
    "stat, p = f_oneway(female_sample['MathScore_normal'],male_sample['MathScore_normal'])\n",
    "print('stat=%.3f, p=%.3f' % (stat, p))\n",
    "if p > 0.05:\n",
    "\tprint('Probably the same distribution')\n",
    "else:\n",
    "\tprint('Probably different distributions')"
   ]
  },
  {
   "cell_type": "markdown",
   "id": "06ebfd52",
   "metadata": {},
   "source": [
    "4. a) Use a statistical test to test the hypothesis:<br>\n",
    "   H0 Gender did not affect the writing scores.<br>\n",
    "   H1 Gender affected the writing score.<br>"
   ]
  },
  {
   "cell_type": "code",
   "execution_count": 11,
   "id": "7080f96e",
   "metadata": {},
   "outputs": [],
   "source": [
    "# z-test\n",
    "\n",
    "from statsmodels.stats.weightstats import ztest as ztest"
   ]
  },
  {
   "cell_type": "code",
   "execution_count": 12,
   "id": "59a64bd6",
   "metadata": {},
   "outputs": [],
   "source": [
    "writing_normal = np.array([np.mean(df[df[\"Gender_female\"]==1].sample(100)[\"WritingScore\"].values) for i in range(500)])\n",
    "female_sample['WritingScore_normal'] = writing_normal\n",
    "\n",
    "writing_normal_m = np.array([np.mean(df[df[\"Gender_male\"]==1].sample(100)[\"WritingScore\"].values) for i in range(500)])\n",
    "male_sample['WritingScore_normal'] = writing_normal_m"
   ]
  },
  {
   "cell_type": "code",
   "execution_count": 19,
   "id": "75f947b6",
   "metadata": {},
   "outputs": [],
   "source": [
    "#female_sample['WritingScore_normal'].hist()\n",
    "#female_sample['WritingScore].hist()"
   ]
  },
  {
   "cell_type": "code",
   "execution_count": 13,
   "id": "e48b849b",
   "metadata": {},
   "outputs": [
    {
     "data": {
      "text/plain": [
       "(94.69653632926345, 0.0)"
      ]
     },
     "execution_count": 13,
     "metadata": {},
     "output_type": "execute_result"
    }
   ],
   "source": [
    "# two-sample z-test\n",
    "\n",
    "ztest(female_sample['WritingScore_normal'], male_sample['WritingScore_normal'], value=0) "
   ]
  },
  {
   "cell_type": "code",
   "execution_count": 14,
   "id": "a8674e9a",
   "metadata": {},
   "outputs": [
    {
     "data": {
      "text/plain": [
       "(1106.2135297846228, 0.0)"
      ]
     },
     "execution_count": 14,
     "metadata": {},
     "output_type": "execute_result"
    }
   ],
   "source": [
    "ztest(female_sample['WritingScore_normal'], value=0)"
   ]
  },
  {
   "cell_type": "code",
   "execution_count": 15,
   "id": "e8a92ab6",
   "metadata": {},
   "outputs": [
    {
     "data": {
      "text/plain": [
       "(954.8781967332455, 0.0)"
      ]
     },
     "execution_count": 15,
     "metadata": {},
     "output_type": "execute_result"
    }
   ],
   "source": [
    "ztest(male_sample['WritingScore_normal'], value=0)"
   ]
  },
  {
   "cell_type": "markdown",
   "id": "c46fde23",
   "metadata": {},
   "source": [
    "5. a) Statisticaly test the distribuitions of female and male scores across the three scores columns.<br>\n",
    "b) Plot the distributions for each of the separate scores in both genders. <br>"
   ]
  },
  {
   "cell_type": "code",
   "execution_count": 20,
   "id": "4f2ae606",
   "metadata": {},
   "outputs": [],
   "source": [
    "reading_normal = np.array([np.mean(df[df[\"Gender_female\"]==1].sample(100)[\"ReadingScore\"].values) for i in range(500)])\n",
    "female_sample['ReadingScore_normal'] = reading_normal\n",
    "\n",
    "reading_normal_m = np.array([np.mean(df[df[\"Gender_male\"]==1].sample(100)[\"ReadingScore\"].values) for i in range(500)])\n",
    "male_sample['ReadingScore_normal'] = reading_normal_m"
   ]
  },
  {
   "cell_type": "code",
   "execution_count": 21,
   "id": "7a30aad6",
   "metadata": {},
   "outputs": [
    {
     "name": "stdout",
     "output_type": "stream",
     "text": [
      "female MathScore_normal stat=0.997, p=0.476\n",
      "Probably Gaussian\n",
      "female WritingScore_normal stat=0.994, p=0.035\n",
      "Probably not Gaussian\n",
      "female ReadingScore_normal stat=0.998, p=0.828\n",
      "Probably Gaussian\n",
      "\n",
      "male MathScore_normal stat=0.996, p=0.342\n",
      "Probably Gaussian\n",
      "male WritingScore_normal stat=0.997, p=0.385\n",
      "Probably Gaussian\n",
      "male ReadingScore_normal stat=0.998, p=0.832\n",
      "Probably Gaussian\n"
     ]
    }
   ],
   "source": [
    "# Shapiro-Wilk - Gaussian\n",
    "\n",
    "from scipy.stats import shapiro\n",
    "for i in ['MathScore_normal', 'WritingScore_normal', 'ReadingScore_normal']:\n",
    "    stat, p = shapiro(female_sample[i])\n",
    "    print('female %s stat=%.3f, p=%.3f' % (i, stat, p))\n",
    "    if p > 0.05:\n",
    "        print('Probably Gaussian')\n",
    "    else:\n",
    "        print('Probably not Gaussian')\n",
    "\n",
    "print('')\n",
    "        \n",
    "for i in ['MathScore_normal', 'WritingScore_normal', 'ReadingScore_normal']:\n",
    "    stat, p = shapiro(male_sample[i])\n",
    "    print('male %s stat=%.3f, p=%.3f' % (i, stat, p))\n",
    "    if p > 0.05:\n",
    "        print('Probably Gaussian')\n",
    "    else:\n",
    "        print('Probably not Gaussian')"
   ]
  },
  {
   "cell_type": "code",
   "execution_count": 22,
   "id": "032cc7ae",
   "metadata": {},
   "outputs": [
    {
     "data": {
      "image/png": "[encoded data removed]",
      "text/plain": [
       "<Figure size 3000x500 with 3 Axes>"
      ]
     },
     "metadata": {},
     "output_type": "display_data"
    }
   ],
   "source": [
    "plt.subplots(1,3, figsize=(30,5)) \n",
    "scores = ['MathScore_normal', 'WritingScore_normal', 'ReadingScore_normal']\n",
    "for index, item in enumerate(scores):\n",
    "    ax = plt.subplot(1, 3, index + 1)\n",
    "    plt.hist(female_sample[item])"
   ]
  },
  {
   "cell_type": "code",
   "execution_count": 23,
   "id": "6b61b713",
   "metadata": {},
   "outputs": [
    {
     "data": {
      "image/png": "[encoded data removed]",
      "text/plain": [
       "<Figure size 3000x500 with 3 Axes>"
      ]
     },
     "metadata": {},
     "output_type": "display_data"
    }
   ],
   "source": [
    "plt.subplots(1,3, figsize=(30,5)) \n",
    "scores = ['MathScore_normal', 'WritingScore_normal', 'ReadingScore_normal']\n",
    "for index, item in enumerate(scores):\n",
    "    ax = plt.subplot(1, 3, index + 1)\n",
    "    plt.hist(male_sample[item])"
   ]
  },
  {
   "cell_type": "code",
   "execution_count": 24,
   "id": "bbaac929",
   "metadata": {},
   "outputs": [
    {
     "name": "stdout",
     "output_type": "stream",
     "text": [
      "stat=1995.500, p=0.000\n",
      "Probably different distributions\n"
     ]
    }
   ],
   "source": [
    "# Mann-Whitney U Test - Tests whether the distributions of two independent samples are equal or not.\n",
    "\n",
    "from scipy.stats import mannwhitneyu\n",
    "stat, p = mannwhitneyu(female_sample['MathScore_normal'],male_sample['MathScore_normal'])\n",
    "print('stat=%.3f, p=%.3f' % (stat, p))\n",
    "if p > 0.05:\n",
    "\tprint('Probably the same distribution')\n",
    "else:\n",
    "\tprint('Probably different distributions')"
   ]
  },
  {
   "cell_type": "code",
   "execution_count": 25,
   "id": "4b1ec62e",
   "metadata": {},
   "outputs": [
    {
     "name": "stdout",
     "output_type": "stream",
     "text": [
      "stat=249971.000, p=0.000\n",
      "Probably different distributions\n"
     ]
    }
   ],
   "source": [
    "stat, p = mannwhitneyu(female_sample['ReadingScore_normal'],male_sample['ReadingScore_normal'])\n",
    "print('stat=%.3f, p=%.3f' % (stat, p))\n",
    "if p > 0.05:\n",
    "\tprint('Probably the same distribution')\n",
    "else:\n",
    "\tprint('Probably different distributions')"
   ]
  },
  {
   "cell_type": "code",
   "execution_count": 26,
   "id": "fdee1cae",
   "metadata": {},
   "outputs": [
    {
     "name": "stdout",
     "output_type": "stream",
     "text": [
      "stat=250000.000, p=0.000\n",
      "Probably different distributions\n"
     ]
    }
   ],
   "source": [
    "stat, p = mannwhitneyu(female_sample['WritingScore_normal'],male_sample['WritingScore_normal'])\n",
    "print('stat=%.3f, p=%.3f' % (stat, p))\n",
    "if p > 0.05:\n",
    "\tprint('Probably the same distribution')\n",
    "else:\n",
    "\tprint('Probably different distributions')"
   ]
  },
  {
   "cell_type": "code",
   "execution_count": 27,
   "id": "abb77e99",
   "metadata": {},
   "outputs": [
    {
     "name": "stdout",
     "output_type": "stream",
     "text": [
      "stat=2.000, p=0.000\n",
      "Probably different distributions\n"
     ]
    }
   ],
   "source": [
    "# Wilcoxon Signed-Rank Test - Tests whether the distributions of two paired samples are equal or not.\n",
    "\n",
    "from scipy.stats import wilcoxon\n",
    "stat, p = wilcoxon(female_sample['MathScore_normal'],male_sample['MathScore_normal'])\n",
    "print('stat=%.3f, p=%.3f' % (stat, p))\n",
    "if p > 0.05:\n",
    "\tprint('Probably the same distribution')\n",
    "else:\n",
    "\tprint('Probably different distributions')"
   ]
  },
  {
   "cell_type": "code",
   "execution_count": 28,
   "id": "dccfcef9",
   "metadata": {},
   "outputs": [
    {
     "name": "stdout",
     "output_type": "stream",
     "text": [
      "stat=0.000, p=0.000\n",
      "Probably different distributions\n"
     ]
    }
   ],
   "source": [
    "from scipy.stats import wilcoxon\n",
    "stat, p = wilcoxon(female_sample['ReadingScore_normal'],male_sample['ReadingScore_normal'])\n",
    "print('stat=%.3f, p=%.3f' % (stat, p))\n",
    "if p > 0.05:\n",
    "\tprint('Probably the same distribution')\n",
    "else:\n",
    "\tprint('Probably different distributions')"
   ]
  },
  {
   "cell_type": "code",
   "execution_count": 29,
   "id": "a2507895",
   "metadata": {},
   "outputs": [
    {
     "name": "stdout",
     "output_type": "stream",
     "text": [
      "stat=0.000, p=0.000\n",
      "Probably different distributions\n"
     ]
    }
   ],
   "source": [
    "from scipy.stats import wilcoxon\n",
    "stat, p = wilcoxon(female_sample['WritingScore_normal'],male_sample['WritingScore_normal'])\n",
    "print('stat=%.3f, p=%.3f' % (stat, p))\n",
    "if p > 0.05:\n",
    "\tprint('Probably the same distribution')\n",
    "else:\n",
    "\tprint('Probably different distributions')"
   ]
  },
  {
   "cell_type": "code",
   "execution_count": 30,
   "id": "fb40ebc5",
   "metadata": {},
   "outputs": [
    {
     "name": "stdout",
     "output_type": "stream",
     "text": [
      "stat=725.522, p=0.000\n",
      "Probably different distributions\n"
     ]
    }
   ],
   "source": [
    "#Kruskal-Wallis H Test - Tests whether the distributions of two or more independent samples are equal or not.\n",
    "\n",
    "from scipy.stats import kruskal\n",
    "stat, p = kruskal(female_sample['MathScore_normal'],male_sample['MathScore_normal'])\n",
    "print('stat=%.3f, p=%.3f' % (stat, p))\n",
    "if p > 0.05:\n",
    "\tprint('Probably the same distribution')\n",
    "else:\n",
    "\tprint('Probably different distributions')"
   ]
  },
  {
   "cell_type": "code",
   "execution_count": 31,
   "id": "d9be7141",
   "metadata": {},
   "outputs": [
    {
     "name": "stdout",
     "output_type": "stream",
     "text": [
      "stat=748.907, p=0.000\n",
      "Probably different distributions\n"
     ]
    }
   ],
   "source": [
    "from scipy.stats import kruskal\n",
    "stat, p = kruskal(female_sample['ReadingScore_normal'],male_sample['ReadingScore_normal'])\n",
    "print('stat=%.3f, p=%.3f' % (stat, p))\n",
    "if p > 0.05:\n",
    "\tprint('Probably the same distribution')\n",
    "else:\n",
    "\tprint('Probably different distributions')"
   ]
  },
  {
   "cell_type": "code",
   "execution_count": 32,
   "id": "eb776e49",
   "metadata": {},
   "outputs": [
    {
     "name": "stdout",
     "output_type": "stream",
     "text": [
      "stat=749.254, p=0.000\n",
      "Probably different distributions\n"
     ]
    }
   ],
   "source": [
    "from scipy.stats import kruskal\n",
    "stat, p = kruskal(female_sample['WritingScore_normal'],male_sample['WritingScore_normal'])\n",
    "print('stat=%.3f, p=%.3f' % (stat, p))\n",
    "if p > 0.05:\n",
    "\tprint('Probably the same distribution')\n",
    "else:\n",
    "\tprint('Probably different distributions')"
   ]
  }
 ],
 "metadata": {
  "kernelspec": {
   "display_name": "Python 3 (ipykernel)",
   "language": "python",
   "name": "python3"
  },
  "language_info": {
   "codemirror_mode": {
    "name": "ipython",
    "version": 3
   },
   "file_extension": ".py",
   "mimetype": "text/x-python",
   "name": "python",
   "nbconvert_exporter": "python",
   "pygments_lexer": "ipython3",
   "version": "3.8.18"
  }
 },
 "nbformat": 4,
 "nbformat_minor": 5
}
